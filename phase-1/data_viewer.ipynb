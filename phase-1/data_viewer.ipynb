{
 "cells": [
  {
   "cell_type": "code",
   "execution_count": 34,
   "metadata": {
    "collapsed": true
   },
   "outputs": [],
   "source": [
    "# imports\n",
    "import pickle\n",
    "import copy as cpy\n",
    "import numpy as np\n",
    "import pandas as pd\n",
    "import networkx as nx\n",
    "# paths\n",
    "sent_path='dataset/sentence_dataframes/'\n",
    "conll_path='dataset/conll_gold_dataframes/'\n",
    "conflict_path='dataset/conflict_dataframes/'"
   ]
  },
  {
   "cell_type": "code",
   "execution_count": 35,
   "metadata": {
    "collapsed": false
   },
   "outputs": [],
   "source": [
    "# 's_no', 'word', 'lemma', 'morph', 'dep_tag', 'to_node'\n",
    "# sentence in conll format\n",
    "# NaN in dependency relation signifies root.\n",
    "cur_file_index=1\n",
    "d_dict={'s_no' : np.int32, 'word' : str , 'lemma' : str, 'morph' : str, 'true_node' : np.int32, 'dep_tag' : str, 'to_node' : str}\n",
    "conll_dataframe=pd.read_csv(conll_path+str(cur_file_index)+\".csv\", dtype=d_dict)\n",
    "column_list=conflict_dataframe.columns\n",
    "conll_dataframe_1=conll_dataframe.drop(['true_node'], axis=1)\n",
    "# conll_dataframe_1"
   ]
  },
  {
   "cell_type": "code",
   "execution_count": 37,
   "metadata": {
    "collapsed": false
   },
   "outputs": [],
   "source": [
    "# 'id','level','color_class','position','chunk_no','word_slp1','lemma','morph','pre_verb','colspan','wordlenth','aux_inf'\n",
    "# nodes as output from shr engine\n",
    "cur_file_index=1\n",
    "d_dict={'id' : np.int32,'level' : np.int32,'color_class' : str,'position' : np.int32,'chunk_no' : np.int32,'word_slp1' : str,'lemma' : str,'morph' : str,'pre_verb' : str,'colspan' : np.int32,'wordlenth' : np.int32,'aux_inf' : str}\n",
    "nodes_dataframe=pd.read_csv(sent_path+str(cur_file_index)+\".csv\",dtype=d_dict)\n",
    "nodes_dataframe_1=nodes_dataframe.drop(['word_rom','sandhi_indexs', 'sandhi_words'], axis=1)\n",
    "column_list=nodes_dataframe_1.columns\n",
    "nodes_dataframe_2=nodes_dataframe_1[['id','level','color_class','position','chunk_no','word_slp1','lemma','morph','pre_verb','colspan','wordlenth','aux_inf']]\n",
    "# nodes_dataframe_2"
   ]
  },
  {
   "cell_type": "code",
   "execution_count": 40,
   "metadata": {
    "collapsed": false
   },
   "outputs": [],
   "source": [
    "# N X N dataframe where N is number of nodes, same as 'id' in above shr output.\n",
    "# 0: no conflict\n",
    "# 1 : conflict\n",
    "cur_file_index=1\n",
    "conflict_dataframe=pd.read_csv(conflict_path+str(cur_file_index)+\".csv\",dtype=np.int32)\n",
    "conflict_dataframe_1=conflict_dataframe.replace([1], 0)\n",
    "conflict_dataframe_1=conflict_dataframe_1.replace([2, 3], 1)\n",
    "# conflict_dataframe_1"
   ]
  },
  {
   "cell_type": "code",
   "execution_count": 46,
   "metadata": {
    "collapsed": false
   },
   "outputs": [],
   "source": [
    "# 's_no', 'word', 'lemma', 'morph', 'true_node', 'dep_tag', 'to_node'\n",
    "# sentence in conll format mapped to shr output, w.r.t 'true_node' as 'id' of nodes_dataframe\n",
    "# NaN in dependency relation signifies root.\n",
    "cur_file_index=1\n",
    "d_dict={'s_no' : np.int32, 'word' : str , 'lemma' : str, 'morph' : str, 'true_node' : np.int32, 'dep_tag' : str, 'to_node' : str}\n",
    "conll_dataframe=pd.read_csv(conll_path+str(cur_file_index)+\".csv\", dtype=d_dict)\n",
    "column_list=conll_dataframe.columns\n",
    "conll_dataframe_1=conll_dataframe[['s_no', 'word', 'lemma', 'morph', 'dep_tag', 'to_node', 'true_node']]\n",
    "# conll_dataframe_1"
   ]
  }
 ],
 "metadata": {
  "kernelspec": {
   "display_name": "Python 3",
   "language": "python",
   "name": "python3"
  },
  "language_info": {
   "codemirror_mode": {
    "name": "ipython",
    "version": 3
   },
   "file_extension": ".py",
   "mimetype": "text/x-python",
   "name": "python",
   "nbconvert_exporter": "python",
   "pygments_lexer": "ipython3",
   "version": "3.6.0"
  }
 },
 "nbformat": 4,
 "nbformat_minor": 2
}
